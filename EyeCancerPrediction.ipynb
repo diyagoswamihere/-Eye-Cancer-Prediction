{
  "nbformat": 4,
  "nbformat_minor": 0,
  "metadata": {
    "colab": {
      "provenance": [],
      "gpuType": "T4"
    },
    "kernelspec": {
      "name": "python3",
      "display_name": "Python 3"
    },
    "language_info": {
      "name": "python"
    },
    "accelerator": "GPU"
  },
  "cells": [
    {
      "cell_type": "code",
      "source": [
        "!pip install pandas scikit-learn xgboost lightgbm catboost imbalanced-learn --quiet"
      ],
      "metadata": {
        "colab": {
          "base_uri": "https://localhost:8080/"
        },
        "id": "U_Y8niYAzx_k",
        "outputId": "d542976f-5627-4b90-e71b-a4a4024d7521"
      },
      "execution_count": 7,
      "outputs": [
        {
          "output_type": "stream",
          "name": "stdout",
          "text": [
            "\u001b[2K   \u001b[90m━━━━━━━━━━━━━━━━━━━━━━━━━━━━━━━━━━━━━━━━\u001b[0m \u001b[32m99.2/99.2 MB\u001b[0m \u001b[31m10.2 MB/s\u001b[0m eta \u001b[36m0:00:00\u001b[0m\n",
            "\u001b[?25h"
          ]
        }
      ]
    },
    {
      "cell_type": "code",
      "source": [
        "import pandas as pd\n",
        "import numpy as np\n",
        "from sklearn.model_selection import train_test_split\n",
        "from sklearn.preprocessing import OneHotEncoder\n",
        "from sklearn.compose import ColumnTransformer\n",
        "from sklearn.pipeline import Pipeline\n",
        "from sklearn.metrics import classification_report, confusion_matrix, accuracy_score\n",
        "from imblearn.over_sampling import SMOTE\n",
        "from xgboost import XGBClassifier\n",
        "from lightgbm import LGBMClassifier\n",
        "from catboost import CatBoostClassifier"
      ],
      "metadata": {
        "id": "NRva-SUfjh7c"
      },
      "execution_count": 8,
      "outputs": []
    },
    {
      "cell_type": "markdown",
      "source": [
        "**Loading the dataset**"
      ],
      "metadata": {
        "id": "pVogr-OajrdO"
      }
    },
    {
      "cell_type": "code",
      "source": [
        "df = pd.read_csv(\"eye_cancer_patients.csv\")"
      ],
      "metadata": {
        "id": "s0Fqd_VUzdFI"
      },
      "execution_count": 9,
      "outputs": []
    },
    {
      "cell_type": "code",
      "source": [
        "# Dropping the unnecessary rows and colums\n",
        "df = df.drop_duplicates()\n",
        "df = df.dropna(subset=['Outcome_Status'])"
      ],
      "metadata": {
        "id": "xjOD9DqL0EW7"
      },
      "execution_count": 10,
      "outputs": []
    },
    {
      "cell_type": "code",
      "source": [
        "# Converting the column names to consistent format\n",
        "df.columns = df.columns.str.strip().str.replace(\" \", \"_\")"
      ],
      "metadata": {
        "id": "31A6IYao0L1u"
      },
      "execution_count": 11,
      "outputs": []
    },
    {
      "cell_type": "code",
      "source": [
        "# Parsing the data to extract features\n",
        "df['Date_of_Diagnosis'] = pd.to_datetime(df['Date_of_Diagnosis'], errors='coerce')\n",
        "df['Diagnosis_Year'] = df['Date_of_Diagnosis'].dt.year\n",
        "df['Diagnosis_Month'] = df['Date_of_Diagnosis'].dt.month\n",
        "df.drop(columns=['Patient_ID', 'Date_of_Diagnosis'], inplace=True)"
      ],
      "metadata": {
        "id": "g3tX8QjH0SKm"
      },
      "execution_count": 12,
      "outputs": []
    },
    {
      "cell_type": "code",
      "source": [
        "# Defining features and targets\n",
        "X = df.drop('Outcome_Status', axis=1)\n",
        "from sklearn.preprocessing import LabelEncoder\n",
        "\n",
        "le = LabelEncoder()\n",
        "y = le.fit_transform(df['Outcome_Status'].astype(str))"
      ],
      "metadata": {
        "id": "21EPGmYS0iIT"
      },
      "execution_count": 19,
      "outputs": []
    },
    {
      "cell_type": "code",
      "source": [
        "# Splitting  before encoding along with  SMOTE\n",
        "X_train, X_test, y_train, y_test = train_test_split(X, y, test_size=0.2, random_state=42, stratify=y)"
      ],
      "metadata": {
        "id": "c6lhGOM-0pRD"
      },
      "execution_count": 20,
      "outputs": []
    },
    {
      "cell_type": "code",
      "source": [
        "# Indentifying columns for transformation\n",
        "categorical_cols = ['Gender', 'Cancer_Type', 'Laterality', 'Stage_at_Diagnosis', 'Treatment_Type',\n",
        "                    'Surgery_Status', 'Radiation_Therapy', 'Chemotherapy', 'Genetic_Markers',\n",
        "                    'Family_History', 'Country']\n",
        "numerical_cols = ['Age', 'Survival_Time_Months', 'Diagnosis_Year', 'Diagnosis_Month']"
      ],
      "metadata": {
        "id": "iPdzdJXN0wwq"
      },
      "execution_count": 21,
      "outputs": []
    },
    {
      "cell_type": "code",
      "source": [
        "preprocessor = ColumnTransformer([\n",
        "    ('cat', OneHotEncoder(handle_unknown='ignore', sparse_output=False), categorical_cols)\n",
        "], remainder='passthrough')\n",
        "\n",
        "# Fitting and transforming the traning data\n",
        "X_train_encoded = preprocessor.fit_transform(X_train)\n",
        "X_test_encoded = preprocessor.transform(X_test)\n",
        "\n",
        "# Handling class imbalance\n",
        "sm = SMOTE(random_state=42)\n",
        "X_train_balanced, y_train_balanced = sm.fit_resample(X_train_encoded, y_train)"
      ],
      "metadata": {
        "id": "7gfYcQqk021Z"
      },
      "execution_count": 22,
      "outputs": []
    },
    {
      "cell_type": "code",
      "source": [
        "# Traning the models\n",
        "models = {\n",
        "    'XGBoost': XGBClassifier(use_label_encoder=False, eval_metric='mlogloss'),\n",
        "    'LightGBM': LGBMClassifier(),\n",
        "    'CatBoost': CatBoostClassifier(verbose=0)\n",
        "}"
      ],
      "metadata": {
        "id": "3g3F6BW-1LS8"
      },
      "execution_count": 23,
      "outputs": []
    },
    {
      "cell_type": "code",
      "source": [
        "# Evaluation of each model\n",
        "for name, model in models.items():\n",
        "    print(f\"\\n🧠 Model: {name}\")\n",
        "    model.fit(X_train_balanced, y_train_balanced)\n",
        "    y_pred = model.predict(X_test_encoded)\n",
        "    print(\"Accuracy:\", accuracy_score(y_test, y_pred))\n",
        "    print(\"Classification Report:\\n\", classification_report(y_test, y_pred))\n",
        "    print(\"Confusion Matrix:\\n\", confusion_matrix(y_test, y_pred))"
      ],
      "metadata": {
        "colab": {
          "base_uri": "https://localhost:8080/"
        },
        "id": "0hCyeAFo1OGw",
        "outputId": "ef457b19-6893-4d43-907f-539078a023e2"
      },
      "execution_count": 24,
      "outputs": [
        {
          "output_type": "stream",
          "name": "stdout",
          "text": [
            "\n",
            "🧠 Model: XGBoost\n"
          ]
        },
        {
          "output_type": "stream",
          "name": "stderr",
          "text": [
            "/usr/local/lib/python3.11/dist-packages/xgboost/core.py:158: UserWarning: [08:36:26] WARNING: /workspace/src/learner.cc:740: \n",
            "Parameters: { \"use_label_encoder\" } are not used.\n",
            "\n",
            "  warnings.warn(smsg, UserWarning)\n"
          ]
        },
        {
          "output_type": "stream",
          "name": "stdout",
          "text": [
            "Accuracy: 0.331\n",
            "Classification Report:\n",
            "               precision    recall  f1-score   support\n",
            "\n",
            "           0       0.33      0.29      0.31       323\n",
            "           1       0.34      0.35      0.34       342\n",
            "           2       0.33      0.35      0.34       335\n",
            "\n",
            "    accuracy                           0.33      1000\n",
            "   macro avg       0.33      0.33      0.33      1000\n",
            "weighted avg       0.33      0.33      0.33      1000\n",
            "\n",
            "Confusion Matrix:\n",
            " [[ 94 117 112]\n",
            " [ 93 119 130]\n",
            " [100 117 118]]\n",
            "\n",
            "🧠 Model: LightGBM\n",
            "[LightGBM] [Info] Auto-choosing row-wise multi-threading, the overhead of testing was 0.003467 seconds.\n",
            "You can set `force_row_wise=true` to remove the overhead.\n",
            "And if memory is not enough, you can set `force_col_wise=true`.\n",
            "[LightGBM] [Info] Total Bins 1011\n",
            "[LightGBM] [Info] Number of data points in the train set: 4104, number of used features: 128\n",
            "[LightGBM] [Info] Start training from score -1.098612\n",
            "[LightGBM] [Info] Start training from score -1.098612\n",
            "[LightGBM] [Info] Start training from score -1.098612\n"
          ]
        },
        {
          "output_type": "stream",
          "name": "stderr",
          "text": [
            "/usr/local/lib/python3.11/dist-packages/sklearn/utils/deprecation.py:151: FutureWarning: 'force_all_finite' was renamed to 'ensure_all_finite' in 1.6 and will be removed in 1.8.\n",
            "  warnings.warn(\n",
            "/usr/local/lib/python3.11/dist-packages/sklearn/utils/deprecation.py:151: FutureWarning: 'force_all_finite' was renamed to 'ensure_all_finite' in 1.6 and will be removed in 1.8.\n",
            "  warnings.warn(\n"
          ]
        },
        {
          "output_type": "stream",
          "name": "stdout",
          "text": [
            "Accuracy: 0.323\n",
            "Classification Report:\n",
            "               precision    recall  f1-score   support\n",
            "\n",
            "           0       0.33      0.31      0.32       323\n",
            "           1       0.32      0.33      0.33       342\n",
            "           2       0.32      0.33      0.32       335\n",
            "\n",
            "    accuracy                           0.32      1000\n",
            "   macro avg       0.32      0.32      0.32      1000\n",
            "weighted avg       0.32      0.32      0.32      1000\n",
            "\n",
            "Confusion Matrix:\n",
            " [[101 117 105]\n",
            " [100 113 129]\n",
            " [105 121 109]]\n",
            "\n",
            "🧠 Model: CatBoost\n",
            "Accuracy: 0.334\n",
            "Classification Report:\n",
            "               precision    recall  f1-score   support\n",
            "\n",
            "           0       0.36      0.34      0.35       323\n",
            "           1       0.33      0.32      0.32       342\n",
            "           2       0.32      0.34      0.33       335\n",
            "\n",
            "    accuracy                           0.33      1000\n",
            "   macro avg       0.34      0.33      0.33      1000\n",
            "weighted avg       0.33      0.33      0.33      1000\n",
            "\n",
            "Confusion Matrix:\n",
            " [[109 106 108]\n",
            " [ 94 110 138]\n",
            " [100 120 115]]\n"
          ]
        }
      ]
    }
  ]
}